{
 "cells": [
  {
   "cell_type": "code",
   "execution_count": 1,
   "id": "a3251ee0",
   "metadata": {},
   "outputs": [],
   "source": [
    "import random\n",
    "import pymysql\n",
    "\n",
    "# Define MySQL connection parameters\n",
    "host = 'host'\n",
    "user = 'user'\n",
    "password = 'password'\n",
    "db_name = 'database_name'\n",
    "\n",
    "# Establish MySQL connection\n",
    "connection = pymysql.connect(host=host, user=user, password=password, database=db_name)\n",
    "\n",
    "\n",
    "# Create cursor object\n",
    "cursor = connection.cursor()\n",
    "\n",
    "\n",
    "# Check if the quotes table already exists\n",
    "cursor.execute(\"SELECT table_name FROM information_schema.tables WHERE table_schema = %s AND table_name = %s\", (db_name, 'quotes'))\n",
    "\n",
    "table_exists = cursor.fetchone() is not None\n",
    "\n",
    "# If the quotes table does not exist, create it\n",
    "if not table_exists:\n",
    "    cursor.execute('''CREATE TABLE quotes\n",
    "                 (quote text, author text)''')\n",
    "\n",
    "    # Insert quotes into the database\n",
    "    quotes = [(\"Life is 10% what happens to us and 90% how we react to it.\", \"Charles R. Swindoll\"),\n",
    "              (\"Success is not final, failure is not fatal: It is the courage to continue that counts.\", \"Winston S. Churchill\"),\n",
    "              (\"Believe you can and you're halfway there.\", \"Theodore Roosevelt\"),\n",
    "              (\"I have not failed. I've just found 10,000 ways that won't work.\", \"Thomas A. Edison\"),\n",
    "              (\"Happiness is not something ready made. It comes from your own actions.\", \"Dalai Lama\")]\n",
    "    cursor.executemany(\"INSERT INTO quotes (quote, author) VALUES (%s, %s)\", quotes)\n",
    "\n",
    "    # Save changes to the database\n",
    "    connection.commit()\n",
    "\n",
    "\n",
    "# Retrieve a random quote from the database\n",
    "def get_random_quote():\n",
    "    cursor.execute(\"SELECT quote, author FROM quotes ORDER BY RAND() LIMIT 1\")\n",
    "    quote, author = cursor.fetchone()\n",
    "    return f\"{quote} - {author}\"\n",
    "\n",
    "# Close the database connection\n",
    "connection .close()\n",
    "\n"
   ]
  }
 ],
 "metadata": {
  "kernelspec": {
   "display_name": "Python 3 (ipykernel)",
   "language": "python",
   "name": "python3"
  },
  "language_info": {
   "codemirror_mode": {
    "name": "ipython",
    "version": 3
   },
   "file_extension": ".py",
   "mimetype": "text/x-python",
   "name": "python",
   "nbconvert_exporter": "python",
   "pygments_lexer": "ipython3",
   "version": "3.9.13"
  }
 },
 "nbformat": 4,
 "nbformat_minor": 5
}
